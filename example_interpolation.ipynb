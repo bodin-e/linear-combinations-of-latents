{
 "cells": [
  {
   "cell_type": "code",
   "id": "initial_id",
   "metadata": {
    "collapsed": true,
    "ExecuteTime": {
     "end_time": "2025-03-14T12:42:45.603152Z",
     "start_time": "2025-03-14T12:42:45.479354Z"
    }
   },
   "source": [
    "import numpy as np\n",
    "from scipy import stats\n",
    "from lol import lol_iid\n",
    "\n",
    "# The object shape of the data and latents in Stable Diffusion 3.\n",
    "# Note that the \"data\" in this model are not images, but VAE latents.\n",
    "object_shape = [16, 96, 96]\n",
    "# The latent distribution (of all elements) in the Stable Diffusion 3.\n",
    "latent_distribution = stats.norm(loc=0, scale=1)\n",
    "\n",
    "num_latent_dims = int(np.prod(object_shape))\n",
    "num_interpolation_points = 10\n",
    "\n",
    "# Interpolation\n",
    "seeds = latent_distribution.rvs(size=[2, num_latent_dims])\n",
    "interpolation_weight = np.linspace(0, 1, num=num_interpolation_points)\n",
    "weights = np.array([[1 - w, w] for w in interpolation_weight])\n",
    "latents = lol_iid(\n",
    "  w=weights,\n",
    "  X=seeds,\n",
    "  cdf=latent_distribution.cdf,\n",
    "  inverse_cdf=latent_distribution.ppf\n",
    ")"
   ],
   "outputs": [],
   "execution_count": 9
  },
  {
   "metadata": {
    "ExecuteTime": {
     "end_time": "2025-03-14T12:44:21.724211Z",
     "start_time": "2025-03-14T12:42:45.609485Z"
    }
   },
   "cell_type": "code",
   "source": [
    "from diffusers import StableDiffusion3Pipeline, DDIMInverseScheduler, AutoencoderKL, DDIMScheduler\n",
    "import torch\n",
    "\n",
    "device = torch.device(\"cuda\" if torch.cuda.is_available() else \"cpu\")\n",
    "model_id = \"stabilityai/stable-diffusion-3-medium-diffusers\"\n",
    "dtype = torch.float16\n",
    "\n",
    "pipeline = StableDiffusion3Pipeline.from_pretrained(model_id, torch_dtype=dtype)\n",
    "pipeline = pipeline.to(device)\n",
    "num_inference_steps = 50\n",
    "guidance_scale = 7.0\n",
    "height, width = 768, 768\n",
    "\n",
    "image_per_latent = []\n",
    "for i, latent in enumerate(latents):\n",
    "  latent_object = np.reshape(latent, (1, *object_shape))\n",
    "  with torch.no_grad():\n",
    "    image = pipeline(\n",
    "      prompt=\"A duck in a pond with a reflection, photographed with a high-resolution DSLR camera.\",\n",
    "      latents=torch.tensor(latent_object, device=device, dtype=dtype),\n",
    "      height=height,\n",
    "      width=width,\n",
    "      guidance_scale=guidance_scale,\n",
    "      num_inference_steps=num_inference_steps,\n",
    "      num_images_per_prompt=1,\n",
    "    ).images[0]\n",
    "    torch.cuda.empty_cache()\n",
    "  image.save(f\"/tmp/interpolation_image_{i}.png\")\n",
    "  image_per_latent.append(image)"
   ],
   "id": "a32a795e797247ca",
   "outputs": [
    {
     "name": "stderr",
     "output_type": "stream",
     "text": [
      "Loading pipeline components...:  11%|█         | 1/9 [00:00<00:01,  4.22it/s]\n",
      "Loading checkpoint shards:   0%|          | 0/2 [00:00<?, ?it/s]\u001B[A\n",
      "Loading checkpoint shards:  50%|█████     | 1/2 [00:00<00:00,  3.86it/s]\u001B[A\n",
      "Loading checkpoint shards: 100%|██████████| 2/2 [00:00<00:00,  3.89it/s]\u001B[A\n",
      "Loading pipeline components...: 100%|██████████| 9/9 [00:01<00:00,  5.65it/s]\n",
      "100%|██████████| 50/50 [00:09<00:00,  5.53it/s]\n",
      "100%|██████████| 50/50 [00:09<00:00,  5.41it/s]\n",
      "100%|██████████| 50/50 [00:08<00:00,  5.84it/s]\n",
      "100%|██████████| 50/50 [00:08<00:00,  6.16it/s]\n",
      "100%|██████████| 50/50 [00:08<00:00,  6.07it/s]\n",
      "100%|██████████| 50/50 [00:08<00:00,  5.91it/s]\n",
      "100%|██████████| 50/50 [00:08<00:00,  5.93it/s]\n",
      "100%|██████████| 50/50 [00:08<00:00,  6.13it/s]\n",
      "100%|██████████| 50/50 [00:08<00:00,  6.00it/s]\n",
      "100%|██████████| 50/50 [00:08<00:00,  6.11it/s]\n"
     ]
    }
   ],
   "execution_count": 10
  },
  {
   "metadata": {
    "ExecuteTime": {
     "end_time": "2025-03-14T12:44:24.067549Z",
     "start_time": "2025-03-14T12:44:21.744557Z"
    }
   },
   "cell_type": "code",
   "source": [
    "from utilities import plot_image_grid\n",
    "\n",
    "plot_image_grid(\n",
    "  images=[np.array(image) for image in image_per_latent],\n",
    "  filepath=\"/tmp/interpolation.png\"\n",
    ")"
   ],
   "id": "ddbc85e290bd04a2",
   "outputs": [],
   "execution_count": 11
  }
 ],
 "metadata": {
  "kernelspec": {
   "display_name": "Python 3",
   "language": "python",
   "name": "python3"
  },
  "language_info": {
   "codemirror_mode": {
    "name": "ipython",
    "version": 2
   },
   "file_extension": ".py",
   "mimetype": "text/x-python",
   "name": "python",
   "nbconvert_exporter": "python",
   "pygments_lexer": "ipython2",
   "version": "2.7.6"
  }
 },
 "nbformat": 4,
 "nbformat_minor": 5
}
